{
 "cells": [
  {
   "cell_type": "code",
   "execution_count": 1,
   "id": "ffd9dc4b-37e2-490d-b96a-dcbe2827e784",
   "metadata": {},
   "outputs": [],
   "source": [
    "EIA_TOKEN=\"SkISq5ivyi0kHjp7gjiS5eAH4EZ3RAGOuCeCIcha\"\n",
    "import os\n",
    "os.environ[\"EIA_TOKEN\"]=EIA_TOKEN"
   ]
  },
  {
   "cell_type": "code",
   "execution_count": 2,
   "id": "1443d60c-3696-4ffa-a7c5-7db32b37006b",
   "metadata": {},
   "outputs": [],
   "source": [
    "import pandas as pd\n",
    "from fredapi import Fred\n",
    "import numpy as np\n",
    "import matplotlib.pyplot as plt\n",
    "import seaborn as sns\n",
    "import yfinance as yf\n",
    "import statsmodels.api as sm\n",
    "from statsmodels.graphics.tsaplots import plot_acf\n",
    "from scipy.stats import boxcox,probplot,shapiro\n",
    "# from myeia.api import API\n",
    "from myeia.api import API\n",
    "from hmmlearn import hmm\n",
    "from pgmpy.models import BayesianModel\n",
    "from pgmpy.estimators import HillClimbSearch\n",
    "from pgmpy.estimators import BayesianEstimator\n",
    "from pgmpy.estimators import BicScore, K2Score, BDeuScore\n",
    "\n",
    "import networkx as nx\n",
    "import pylab as plt\n",
    "\n",
    "import warnings\n",
    "warnings.filterwarnings('ignore')\n",
    "from numpy import hstack\n",
    "plt.rcParams[\"figure.figsize\"] = (16, 9)"
   ]
  },
  {
   "cell_type": "code",
   "execution_count": 3,
   "id": "435bb97c-9295-45af-9352-d8d6f98719cf",
   "metadata": {},
   "outputs": [],
   "source": [
    "\n",
    "fred = Fred(api_key='c2ba2ab669806771ed51f532edc6e570')"
   ]
  },
  {
   "cell_type": "markdown",
   "id": "189b9637-40db-49dc-b27e-37be7f8edd17",
   "metadata": {},
   "source": [
    "# **FROM PROJECT-I**"
   ]
  },
  {
   "cell_type": "code",
   "execution_count": 4,
   "id": "77f6def9-fac6-4af0-b627-f028daaf5850",
   "metadata": {},
   "outputs": [],
   "source": [
    "# We will try and get the latest dataset\n",
    "start_date=\"2014-01-01\"\n",
    "end_date=\"2023-09-30\""
   ]
  },
  {
   "cell_type": "code",
   "execution_count": 5,
   "id": "9f08d248-4107-4ef4-a173-9224a56d62b0",
   "metadata": {},
   "outputs": [],
   "source": [
    "# Define a list of FRED series/ticker names\n",
    "macro_tickers = [\"GEPUCURRENT\", \"UNRATE\", \"T30YIEM\",'EMVELECTGOVRN','WTISPLC']\n",
    "\n",
    "# Create a dictionary to store the data\n",
    "macro_pd = pd.DataFrame()\n",
    "\n",
    "# Loop through the tickers and fetch data\n",
    "for ticker in macro_tickers:\n",
    "    macro_pd[ticker] = fred.get_series(ticker,observation_start=start_date, observation_end=end_date)\n",
    "\n",
    "# # Print or process the data as needed\n",
    "# for ticker, series_data in macro_data.items():\n",
    "#     print(f\"Data for {ticker}:\")\n",
    "#     print(series_data)\n"
   ]
  },
  {
   "cell_type": "code",
   "execution_count": 6,
   "id": "a9cf4af8-daac-4c09-93e7-1ae5880b2925",
   "metadata": {},
   "outputs": [],
   "source": [
    "micro_fuel = pd.DataFrame(fred.get_series('APU000072511',observation_start=start_date, observation_end=end_date), columns=['Fuel'])\n",
    "micro_employ = pd.DataFrame(fred.get_series('CES1021100001',observation_start=start_date, observation_end=end_date), columns=['Sector_employment'])"
   ]
  },
  {
   "cell_type": "code",
   "execution_count": null,
   "id": "2931fbae-d4d8-4113-a4a3-144cbc4880af",
   "metadata": {},
   "outputs": [],
   "source": []
  }
 ],
 "metadata": {
  "kernelspec": {
   "display_name": "Python 3 (ipykernel)",
   "language": "python",
   "name": "python3"
  },
  "language_info": {
   "codemirror_mode": {
    "name": "ipython",
    "version": 3
   },
   "file_extension": ".py",
   "mimetype": "text/x-python",
   "name": "python",
   "nbconvert_exporter": "python",
   "pygments_lexer": "ipython3",
   "version": "3.10.6"
  }
 },
 "nbformat": 4,
 "nbformat_minor": 5
}
