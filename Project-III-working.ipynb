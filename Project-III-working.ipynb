{
 "cells": [
  {
   "cell_type": "markdown",
   "metadata": {},
   "source": [
    "# STEP 4 & 5"
   ]
  },
  {
   "cell_type": "code",
   "execution_count": 1,
   "metadata": {
    "colab": {
     "base_uri": "https://localhost:8080/"
    },
    "id": "sVShZ3A0GPhL",
    "outputId": "1ffa7802-e57d-4b3f-8538-c06dcdb0963f"
   },
   "outputs": [],
   "source": [
    "# !pip install eia\n",
    "import warnings\n",
    "warnings.filterwarnings('ignore')\n",
    "import pandas as pd\n",
    "import numpy as np\n",
    "from hmmlearn import hmm"
   ]
  },
  {
   "cell_type": "code",
   "execution_count": 2,
   "metadata": {
    "id": "5WdYPPzPN6Ff"
   },
   "outputs": [],
   "source": [
    "EIA_TOKEN=\"SkISq5ivyi0kHjp7gjiS5eAH4EZ3RAGOuCeCIcha\"\n",
    "import os\n",
    "os.environ[\"EIA_TOKEN\"]=EIA_TOKEN"
   ]
  },
  {
   "cell_type": "code",
   "execution_count": 3,
   "metadata": {
    "colab": {
     "base_uri": "https://localhost:8080/"
    },
    "id": "AiSR84Iohp2V",
    "outputId": "af2e3775-19dd-4bde-a96f-9b77091c4081"
   },
   "outputs": [],
   "source": [
    "# !pip install myeia"
   ]
  },
  {
   "cell_type": "markdown",
   "metadata": {},
   "source": [
    "Similar to Project-II, let's collect the data and clean it."
   ]
  },
  {
   "cell_type": "code",
   "execution_count": null,
   "metadata": {
    "id": "FBsuOqwsSdU3"
   },
   "outputs": [],
   "source": []
  },
  {
   "cell_type": "code",
   "execution_count": 4,
   "metadata": {
    "colab": {
     "base_uri": "https://localhost:8080/"
    },
    "id": "qY22G7nkTohf",
    "outputId": "32feb483-9975-4371-9e66-6fa1aac86e57"
   },
   "outputs": [
    {
     "name": "stdout",
     "output_type": "stream",
     "text": [
      "           TOTAL.COEXPUS.M\n",
      "Date                      \n",
      "2023-09-01          4200.3\n",
      "2023-08-01        4364.484\n",
      "2023-07-01        3834.655\n",
      "2023-06-01        3820.605\n",
      "2023-05-01        3789.268\n"
     ]
    }
   ],
   "source": [
    "import pandas as pd\n",
    "import numpy as np\n",
    "# import eia\n",
    "from myeia.api import API\n",
    "\n",
    "EIA_API_KEY = \"SkISq5ivyi0kHjp7gjiS5eAH4EZ3RAGOuCeCIcha\"\n",
    "\n",
    "# Set the start and end dates for the data retrieval\n",
    "\n",
    "from myeia.api import API\n",
    "eia_ = API()\n",
    "\n",
    "monthly_data = eia_.get_series(series_id=\"TOTAL.COEXPUS.M\")\n",
    "\n",
    "# Convert the retrieved data into a pandas DataFrame for easy manipulation and analysis\n",
    "eia_data = pd.DataFrame(monthly_data)\n",
    "\n",
    "# Display the first few rows of the DataFrame to preview the data\n",
    "print(eia_data.head())"
   ]
  },
  {
   "cell_type": "code",
   "execution_count": 5,
   "metadata": {
    "colab": {
     "base_uri": "https://localhost:8080/",
     "height": 238
    },
    "id": "kL7fXtsSYJ0C",
    "outputId": "b5de6eea-f72d-4cb9-a909-a6c9cc70e275"
   },
   "outputs": [
    {
     "data": {
      "text/html": [
       "<div>\n",
       "<style scoped>\n",
       "    .dataframe tbody tr th:only-of-type {\n",
       "        vertical-align: middle;\n",
       "    }\n",
       "\n",
       "    .dataframe tbody tr th {\n",
       "        vertical-align: top;\n",
       "    }\n",
       "\n",
       "    .dataframe thead th {\n",
       "        text-align: right;\n",
       "    }\n",
       "</style>\n",
       "<table border=\"1\" class=\"dataframe\">\n",
       "  <thead>\n",
       "    <tr style=\"text-align: right;\">\n",
       "      <th></th>\n",
       "      <th>TOTAL.COEXPUS.M</th>\n",
       "    </tr>\n",
       "    <tr>\n",
       "      <th>Date</th>\n",
       "      <th></th>\n",
       "    </tr>\n",
       "  </thead>\n",
       "  <tbody>\n",
       "    <tr>\n",
       "      <th>2023-09-01</th>\n",
       "      <td>4200.3</td>\n",
       "    </tr>\n",
       "    <tr>\n",
       "      <th>2023-08-01</th>\n",
       "      <td>4364.484</td>\n",
       "    </tr>\n",
       "    <tr>\n",
       "      <th>2023-07-01</th>\n",
       "      <td>3834.655</td>\n",
       "    </tr>\n",
       "    <tr>\n",
       "      <th>2023-06-01</th>\n",
       "      <td>3820.605</td>\n",
       "    </tr>\n",
       "    <tr>\n",
       "      <th>2023-05-01</th>\n",
       "      <td>3789.268</td>\n",
       "    </tr>\n",
       "  </tbody>\n",
       "</table>\n",
       "</div>"
      ],
      "text/plain": [
       "           TOTAL.COEXPUS.M\n",
       "Date                      \n",
       "2023-09-01          4200.3\n",
       "2023-08-01        4364.484\n",
       "2023-07-01        3834.655\n",
       "2023-06-01        3820.605\n",
       "2023-05-01        3789.268"
      ]
     },
     "execution_count": 5,
     "metadata": {},
     "output_type": "execute_result"
    }
   ],
   "source": [
    "import datetime\n",
    "\n",
    "def convert_to_datetime(input):\n",
    "    date_str = input.strftime(\"%Y-%m-%d\")\n",
    "    return datetime.datetime.strptime(date_str, \"%Y-%m-%d\").date()\n",
    "\n",
    "# Apply the conversion function to the entire index\n",
    "eia_data.index = eia_data.index.map(convert_to_datetime)\n",
    "\n",
    "# Convert the index to datetime64[ns] format for temporal analysis\n",
    "eia_data.index = pd.to_datetime(eia_data.index)\n",
    "\n",
    "# Update the column names to match the variable names\n",
    "eia_data.columns = ['TOTAL.COEXPUS.M']\n",
    "\n",
    "eia_data.head()"
   ]
  },
  {
   "cell_type": "code",
   "execution_count": 6,
   "metadata": {
    "id": "o95mtw3OglBe"
   },
   "outputs": [],
   "source": [
    "# Replace the '-' with np.nan\n",
    "eia_data.replace('-', np.nan, regex=True, inplace=True);\n",
    "# Backward fill the holes, by filling them with the data infront.\n",
    "eia_data.fillna(method='bfill', inplace=True);"
   ]
  },
  {
   "cell_type": "code",
   "execution_count": 7,
   "metadata": {
    "id": "OrELf1JKh-SP"
   },
   "outputs": [],
   "source": [
    "def clean_EIA(data):\n",
    "    data.replace('-', np.nan, regex=True, inplace=True);\n",
    "    data.fillna(method='bfill', inplace=True);\n",
    "    data.index = data.index.map(convert_to_datetime);\n",
    "    data.index = pd.to_datetime(data.index);"
   ]
  },
  {
   "cell_type": "code",
   "execution_count": 8,
   "metadata": {
    "colab": {
     "base_uri": "https://localhost:8080/",
     "height": 366
    },
    "id": "KX6W2xZQiDlX",
    "outputId": "6a4ae978-b6c9-4f8c-bb7e-42084fa4bb7d"
   },
   "outputs": [],
   "source": [
    "# def retrieve_data():\n",
    "#     # Create EIA API using your specific API key\n",
    "#     api_key = \"SkISq5ivyi0kHjp7gjiS5eAH4EZ3RAGOuCeCIcha\"\n",
    "#     # api = eia.API(api_key)\n",
    "\n",
    "#     # Retrieve Data By Series ID\n",
    "#     series_ID='STEO.RGDPQ_NONOECD.M'\n",
    "#     series_search =eia_.get_series(series_id=series_ID)\n",
    "#     # df = pd.DataFrame(series_search)\n",
    "#     # df.index.names = ['Date']\n",
    "#     # df.columns=[ \"Price\"]\n",
    "#     # df.index = df.index.str.replace('^([\\d]{4})\\s([\\d]{2})([\\d]{2})\\s[\\d]{2}', r'\\1-\\2-\\3',regex=True)\n",
    "#     # df.index = pd.to_datetime(df.index)\n",
    "#     return series_search\n",
    "\n",
    "# data = retrieve_data()\n",
    "# data.head()\n",
    "# #data.to_csv('OK_WTI_Spot_Price_FOB.csv',index=True)"
   ]
  },
  {
   "cell_type": "code",
   "execution_count": 9,
   "metadata": {
    "colab": {
     "base_uri": "https://localhost:8080/"
    },
    "id": "zjBKHx6SiLgJ",
    "outputId": "554389c5-d8b3-4ded-84f7-c3ab5fefb7ed"
   },
   "outputs": [],
   "source": [
    "# !pip install fredapi"
   ]
  },
  {
   "cell_type": "code",
   "execution_count": 10,
   "metadata": {
    "id": "T_AUTiw6wDuQ"
   },
   "outputs": [],
   "source": [
    "from fredapi import Fred\n",
    "# FRED API key\n",
    "fred_key = \"f33017f0f73843287480933867eb6436\";\n",
    "# Initiates a session with the FRED datacenter to recieve datasets\n",
    "fred = Fred(api_key=fred_key);\n",
    "# Retrieve data from FRED API\n",
    "fred_data = pd.DataFrame(fred.get_series('WTISPLC'), columns=['WTISPLC']);"
   ]
  },
  {
   "cell_type": "code",
   "execution_count": 11,
   "metadata": {
    "colab": {
     "base_uri": "https://localhost:8080/",
     "height": 206
    },
    "id": "X0dvpnKZwJzj",
    "outputId": "e4f75b99-2ba7-46bd-db80-7cd2f4c1d047"
   },
   "outputs": [
    {
     "data": {
      "text/html": [
       "<div>\n",
       "<style scoped>\n",
       "    .dataframe tbody tr th:only-of-type {\n",
       "        vertical-align: middle;\n",
       "    }\n",
       "\n",
       "    .dataframe tbody tr th {\n",
       "        vertical-align: top;\n",
       "    }\n",
       "\n",
       "    .dataframe thead th {\n",
       "        text-align: right;\n",
       "    }\n",
       "</style>\n",
       "<table border=\"1\" class=\"dataframe\">\n",
       "  <thead>\n",
       "    <tr style=\"text-align: right;\">\n",
       "      <th></th>\n",
       "      <th>WTISPLC</th>\n",
       "    </tr>\n",
       "  </thead>\n",
       "  <tbody>\n",
       "    <tr>\n",
       "      <th>1946-01-01</th>\n",
       "      <td>1.17</td>\n",
       "    </tr>\n",
       "    <tr>\n",
       "      <th>1946-02-01</th>\n",
       "      <td>1.17</td>\n",
       "    </tr>\n",
       "    <tr>\n",
       "      <th>1946-03-01</th>\n",
       "      <td>1.17</td>\n",
       "    </tr>\n",
       "    <tr>\n",
       "      <th>1946-04-01</th>\n",
       "      <td>1.27</td>\n",
       "    </tr>\n",
       "    <tr>\n",
       "      <th>1946-05-01</th>\n",
       "      <td>1.27</td>\n",
       "    </tr>\n",
       "  </tbody>\n",
       "</table>\n",
       "</div>"
      ],
      "text/plain": [
       "            WTISPLC\n",
       "1946-01-01     1.17\n",
       "1946-02-01     1.17\n",
       "1946-03-01     1.17\n",
       "1946-04-01     1.27\n",
       "1946-05-01     1.27"
      ]
     },
     "execution_count": 11,
     "metadata": {},
     "output_type": "execute_result"
    }
   ],
   "source": [
    "fred_data.head()"
   ]
  },
  {
   "cell_type": "code",
   "execution_count": 12,
   "metadata": {
    "id": "-QZDv4U6w9_q"
   },
   "outputs": [],
   "source": [
    "# Dataset series ID from the EIA\n",
    "datasets_eia = [\n",
    "    #\"STEO.RGDPQ_NONOECD.M\",\n",
    "    #\"STEO.RGDPQ_OECD.M\",\n",
    "    \"STEO.PAPR_NONOPEC.M\",\n",
    "    \"STEO.PAPR_OPEC.M\",\n",
    "    \"STEO.PATC_OECD.M\",\n",
    "    \"STEO.PATC_NON_OECD.M\",\n",
    "    \"STEO.COPRPUS.M\",\n",
    "    \"STEO.CORIPUS.M\",\n",
    "    \"PET.MCRIMXX2.M\",\n",
    "    #\"STEO.FOREX_WORLD.M\",\n",
    "    #\"STEO.PASC_OECD_T3.M\",\n",
    "    \"STEO.COPS_OPEC.M\",\n",
    "    \"STEO.COPC_OPEC.M\",\n",
    "    \"STEO.T3_STCHANGE_OOECD.M\",\n",
    "    \"STEO.T3_STCHANGE_NOECD.M\",\n",
    "];\n",
    "# Dataset series ID from the FRED\n",
    "datasets_fred = [\n",
    "    'CPIENGSL',\n",
    "    'CAPG211S',\n",
    "    'CAPUTLG211S',\n",
    "    'IPG211S',\n",
    "    'IPG211111CN',\n",
    "    'INDPRO',\n",
    "    'IPN213111N',\n",
    "    'PCU211211',\n",
    "];"
   ]
  },
  {
   "cell_type": "code",
   "execution_count": null,
   "metadata": {
    "id": "EoREG5W11HBg"
   },
   "outputs": [],
   "source": []
  },
  {
   "cell_type": "code",
   "execution_count": 13,
   "metadata": {
    "id": "eGoea0cIxGV4"
   },
   "outputs": [],
   "source": [
    "data_merge = []; # List of dataframes to be concatenated\n",
    "\n",
    "# Adding EIA datasets\n",
    "for series_id_ in datasets_eia:\n",
    "  df = pd.DataFrame(eia_.get_series(series_id=series_id_))\n",
    "  clean_EIA(df)\n",
    "  df.columns = [series_id_]\n",
    "  data_merge.append(df)\n",
    "\n",
    "# Adding FRED datasets\n",
    "for series_id in datasets_fred:\n",
    "    df = pd.DataFrame(fred.get_series(series_id), columns=[series_id])\n",
    "    data_merge.append(df)\n",
    "\n"
   ]
  },
  {
   "cell_type": "code",
   "execution_count": 14,
   "metadata": {
    "id": "6Z8_JkCPxXDQ"
   },
   "outputs": [],
   "source": [
    "datasets = datasets_eia + datasets_fred + ['WTISPLC', 'forecast'];\n",
    "\n",
    "current =  pd.DataFrame(fred.get_series('WTISPLC'), columns=['WTISPLC']);\n",
    "forecast = pd.DataFrame(fred.get_series('WTISPLC').shift(-1),\n",
    "                        columns=['forecast']);\n",
    "\n",
    "data_merge.append(current);\n",
    "data_merge.append(forecast);"
   ]
  },
  {
   "cell_type": "code",
   "execution_count": 15,
   "metadata": {
    "colab": {
     "base_uri": "https://localhost:8080/"
    },
    "id": "4oasHrF1GGx-",
    "outputId": "c9a6b389-a602-4416-a76d-847325f137e1"
   },
   "outputs": [
    {
     "data": {
      "text/plain": [
       "[            STEO.PAPR_NONOPEC.M\n",
       " Date                           \n",
       " 2024-12-01            69.971965\n",
       " 2024-11-01            70.068037\n",
       " 2024-10-01            69.743810\n",
       " 2024-09-01            69.349308\n",
       " 2024-08-01            69.685732\n",
       " ...                         ...\n",
       " 1993-05-01            41.418634\n",
       " 1993-04-01            41.482130\n",
       " 1993-03-01            41.703569\n",
       " 1993-02-01            41.755341\n",
       " 1993-01-01            41.897640\n",
       " \n",
       " [384 rows x 1 columns],\n",
       "             STEO.PAPR_OPEC.M\n",
       " Date                        \n",
       " 2024-12-01         33.134098\n",
       " 2024-11-01         33.159162\n",
       " 2024-10-01         33.286775\n",
       " 2024-09-01         33.407123\n",
       " 2024-08-01         33.403738\n",
       " ...                      ...\n",
       " 1993-05-01         25.108566\n",
       " 1993-04-01         24.934845\n",
       " 1993-03-01         25.448079\n",
       " 1993-02-01         26.052563\n",
       " 1993-01-01         25.891535\n",
       " \n",
       " [384 rows x 1 columns],\n",
       "             STEO.PATC_OECD.M\n",
       " Date                        \n",
       " 2024-12-01         46.517488\n",
       " 2024-11-01         45.978357\n",
       " 2024-10-01         46.099178\n",
       " 2024-09-01         46.065809\n",
       " 2024-08-01         46.399827\n",
       " ...                      ...\n",
       " 1990-05-01         40.404323\n",
       " 1990-04-01         40.389046\n",
       " 1990-03-01         42.289847\n",
       " 1990-02-01         43.172266\n",
       " 1990-01-01         42.477491\n",
       " \n",
       " [420 rows x 1 columns],\n",
       "             STEO.PATC_NON_OECD.M\n",
       " Date                            \n",
       " 2024-12-01             57.664859\n",
       " 2024-11-01             56.649995\n",
       " 2024-10-01             55.622034\n",
       " 2024-09-01             57.059093\n",
       " 2024-08-01             56.311834\n",
       " ...                          ...\n",
       " 1990-05-01             24.985235\n",
       " 1990-04-01             24.985671\n",
       " 1990-03-01             24.985897\n",
       " 1990-02-01             24.986039\n",
       " 1990-01-01             24.986265\n",
       " \n",
       " [420 rows x 1 columns],\n",
       "             STEO.COPRPUS.M\n",
       " Date                      \n",
       " 2024-12-01       13.439510\n",
       " 2024-11-01       13.390610\n",
       " 2024-10-01       13.222170\n",
       " 2024-09-01       13.121940\n",
       " 2024-08-01       13.124890\n",
       " ...                    ...\n",
       " 1990-05-01        7.328342\n",
       " 1990-04-01        7.407173\n",
       " 1990-03-01        7.433341\n",
       " 1990-02-01        7.497242\n",
       " 1990-01-01        7.546173\n",
       " \n",
       " [420 rows x 1 columns],\n",
       "             STEO.CORIPUS.M\n",
       " Date                      \n",
       " 2024-12-01        16.00527\n",
       " 2024-11-01        15.77878\n",
       " 2024-10-01        15.32561\n",
       " 2024-09-01        16.13758\n",
       " 2024-08-01        16.69672\n",
       " ...                    ...\n",
       " 1990-05-01        13.38600\n",
       " 1990-04-01        13.05100\n",
       " 1990-03-01        12.87600\n",
       " 1990-02-01        13.48700\n",
       " 1990-01-01        13.49100\n",
       " \n",
       " [420 rows x 1 columns],\n",
       "             PET.MCRIMXX2.M\n",
       " Date                      \n",
       " 2023-08-01            1215\n",
       " 2023-07-01            1045\n",
       " 2023-06-01            1040\n",
       " 2023-05-01            1011\n",
       " 2023-04-01            1130\n",
       " ...                    ...\n",
       " 1973-05-01            2065\n",
       " 1973-04-01            1757\n",
       " 1973-03-01            1913\n",
       " 1973-02-01            1705\n",
       " 1973-01-01            1566\n",
       " \n",
       " [608 rows x 1 columns],\n",
       "             STEO.COPS_OPEC.M\n",
       " Date                        \n",
       " 2024-12-01          4.761000\n",
       " 2024-11-01          4.661000\n",
       " 2024-10-01          4.461000\n",
       " 2024-09-01          4.091250\n",
       " 2024-08-01          4.091250\n",
       " ...                      ...\n",
       " 1993-05-01          3.770457\n",
       " 1993-04-01          3.944178\n",
       " 1993-03-01          3.430944\n",
       " 1993-02-01          2.826460\n",
       " 1993-01-01          2.987488\n",
       " \n",
       " [384 rows x 1 columns],\n",
       "             STEO.COPC_OPEC.M\n",
       " Date                        \n",
       " 2024-12-01         32.404722\n",
       " 2024-11-01         32.405563\n",
       " 2024-10-01         32.396403\n",
       " 2024-09-01         32.132493\n",
       " 2024-08-01         32.093333\n",
       " ...                      ...\n",
       " 1990-05-01         27.998959\n",
       " 1990-04-01         28.167217\n",
       " 1990-03-01         28.225707\n",
       " 1990-02-01         28.021190\n",
       " 1990-01-01         27.318876\n",
       " \n",
       " [420 rows x 1 columns],\n",
       "             STEO.T3_STCHANGE_OOECD.M\n",
       " Date                                \n",
       " 2024-12-01                  0.163527\n",
       " 2024-11-01                 -0.216144\n",
       " 2024-10-01                 -0.552452\n",
       " 2024-09-01                  0.099475\n",
       " 2024-08-01                 -0.119288\n",
       " ...                              ...\n",
       " 2003-06-01                 -0.737567\n",
       " 2003-05-01                 -0.476290\n",
       " 2003-04-01                 -0.284933\n",
       " 2003-03-01                 -1.772806\n",
       " 2003-02-01                  1.369643\n",
       " \n",
       " [263 rows x 1 columns],\n",
       "             STEO.T3_STCHANGE_NOECD.M\n",
       " Date                                \n",
       " 2024-12-01                  0.359789\n",
       " 2024-11-01                 -0.477970\n",
       " 2024-10-01                 -1.200373\n",
       " 2024-09-01                  0.220463\n",
       " 2024-08-01                 -0.262716\n",
       " ...                              ...\n",
       " 2003-06-01                  2.690327\n",
       " 2003-05-01                  1.007573\n",
       " 2003-04-01                  0.686065\n",
       " 2003-03-01                  2.080385\n",
       " 2003-02-01                  0.295634\n",
       " \n",
       " [263 rows x 1 columns],\n",
       "             CPIENGSL\n",
       " 1957-01-01    21.300\n",
       " 1957-02-01    21.400\n",
       " 1957-03-01    21.500\n",
       " 1957-04-01    21.600\n",
       " 1957-05-01    21.600\n",
       " ...              ...\n",
       " 2023-06-01   274.044\n",
       " 2023-07-01   274.353\n",
       " 2023-08-01   289.671\n",
       " 2023-09-01   294.087\n",
       " 2023-10-01   286.877\n",
       " \n",
       " [802 rows x 1 columns],\n",
       "             CAPG211S\n",
       " 1972-01-01   85.5732\n",
       " 1972-02-01   85.3492\n",
       " 1972-03-01   85.1313\n",
       " 1972-04-01   84.9218\n",
       " 1972-05-01   84.7144\n",
       " ...              ...\n",
       " 2023-06-01  138.6415\n",
       " 2023-07-01  138.9320\n",
       " 2023-08-01  139.2160\n",
       " 2023-09-01  139.4993\n",
       " 2023-10-01  139.7862\n",
       " \n",
       " [622 rows x 1 columns],\n",
       "             CAPUTLG211S\n",
       " 1972-01-01      92.1623\n",
       " 1972-02-01      92.6117\n",
       " 1972-03-01      93.9370\n",
       " 1972-04-01      95.1141\n",
       " 1972-05-01      95.1254\n",
       " ...                 ...\n",
       " 2023-06-01     101.9898\n",
       " 2023-07-01     102.6664\n",
       " 2023-08-01     103.0721\n",
       " 2023-09-01     102.4747\n",
       " 2023-10-01     103.5714\n",
       " \n",
       " [622 rows x 1 columns],\n",
       "              IPG211S\n",
       " 1972-01-01   78.8662\n",
       " 1972-02-01   79.0433\n",
       " 1972-03-01   79.9698\n",
       " 1972-04-01   80.7727\n",
       " 1972-05-01   80.5849\n",
       " ...              ...\n",
       " 2023-06-01  141.4002\n",
       " 2023-07-01  142.6365\n",
       " 2023-08-01  143.4928\n",
       " 2023-09-01  142.9515\n",
       " 2023-10-01  144.7785\n",
       " \n",
       " [622 rows x 1 columns],\n",
       "             IPG211111CN\n",
       " 1972-01-01     141.5122\n",
       " 1972-02-01     145.1660\n",
       " 1972-03-01     147.2945\n",
       " 1972-04-01     148.2239\n",
       " 1972-05-01     149.7792\n",
       " ...                 ...\n",
       " 2020-12-01     169.6635\n",
       " 2021-01-01     169.2416\n",
       " 2021-02-01     150.8145\n",
       " 2021-03-01     165.8403\n",
       " 2021-04-01     165.4243\n",
       " \n",
       " [592 rows x 1 columns],\n",
       "               INDPRO\n",
       " 1919-01-01    4.8665\n",
       " 1919-02-01    4.6514\n",
       " 1919-03-01    4.5170\n",
       " 1919-04-01    4.5976\n",
       " 1919-05-01    4.6245\n",
       " ...              ...\n",
       " 2023-06-01  102.3030\n",
       " 2023-07-01  103.2670\n",
       " 2023-08-01  103.2927\n",
       " 2023-09-01  103.3643\n",
       " 2023-10-01  102.7081\n",
       " \n",
       " [1258 rows x 1 columns],\n",
       "             IPN213111N\n",
       " 1972-01-01    101.9344\n",
       " 1972-02-01     99.9706\n",
       " 1972-03-01     98.6358\n",
       " 1972-04-01     97.9968\n",
       " 1972-05-01     97.9674\n",
       " ...                ...\n",
       " 2023-06-01    102.0390\n",
       " 2023-07-01    100.2283\n",
       " 2023-08-01     96.6467\n",
       " 2023-09-01     95.7640\n",
       " 2023-10-01     96.0433\n",
       " \n",
       " [622 rows x 1 columns],\n",
       "             PCU211211\n",
       " 1985-12-01    100.000\n",
       " 1986-01-01     99.700\n",
       " 1986-02-01     90.700\n",
       " 1986-03-01     84.800\n",
       " 1986-04-01     78.800\n",
       " ...               ...\n",
       " 2023-06-01    168.741\n",
       " 2023-07-01    189.536\n",
       " 2023-08-01    201.252\n",
       " 2023-09-01    218.041\n",
       " 2023-10-01    215.521\n",
       " \n",
       " [455 rows x 1 columns],\n",
       "             WTISPLC\n",
       " 1946-01-01     1.17\n",
       " 1946-02-01     1.17\n",
       " 1946-03-01     1.17\n",
       " 1946-04-01     1.27\n",
       " 1946-05-01     1.27\n",
       " ...             ...\n",
       " 2023-06-01    70.25\n",
       " 2023-07-01    76.07\n",
       " 2023-08-01    81.39\n",
       " 2023-09-01    89.43\n",
       " 2023-10-01    85.64\n",
       " \n",
       " [934 rows x 1 columns],\n",
       "             forecast\n",
       " 1946-01-01      1.17\n",
       " 1946-02-01      1.17\n",
       " 1946-03-01      1.27\n",
       " 1946-04-01      1.27\n",
       " 1946-05-01      1.27\n",
       " ...              ...\n",
       " 2023-06-01     76.07\n",
       " 2023-07-01     81.39\n",
       " 2023-08-01     89.43\n",
       " 2023-09-01     85.64\n",
       " 2023-10-01       NaN\n",
       " \n",
       " [934 rows x 1 columns]]"
      ]
     },
     "execution_count": 15,
     "metadata": {},
     "output_type": "execute_result"
    }
   ],
   "source": [
    "data_merge"
   ]
  },
  {
   "cell_type": "code",
   "execution_count": 16,
   "metadata": {
    "colab": {
     "base_uri": "https://localhost:8080/",
     "height": 617
    },
    "id": "GdtILfyKGJgJ",
    "outputId": "0f0712a6-791d-45f0-9a79-f2421d668ed5"
   },
   "outputs": [
    {
     "data": {
      "text/html": [
       "<div>\n",
       "<style scoped>\n",
       "    .dataframe tbody tr th:only-of-type {\n",
       "        vertical-align: middle;\n",
       "    }\n",
       "\n",
       "    .dataframe tbody tr th {\n",
       "        vertical-align: top;\n",
       "    }\n",
       "\n",
       "    .dataframe thead th {\n",
       "        text-align: right;\n",
       "    }\n",
       "</style>\n",
       "<table border=\"1\" class=\"dataframe\">\n",
       "  <thead>\n",
       "    <tr style=\"text-align: right;\">\n",
       "      <th></th>\n",
       "      <th>STEO.PAPR_NONOPEC.M</th>\n",
       "      <th>STEO.PAPR_OPEC.M</th>\n",
       "      <th>STEO.PATC_OECD.M</th>\n",
       "      <th>STEO.PATC_NON_OECD.M</th>\n",
       "      <th>STEO.COPRPUS.M</th>\n",
       "      <th>STEO.CORIPUS.M</th>\n",
       "      <th>PET.MCRIMXX2.M</th>\n",
       "      <th>STEO.COPS_OPEC.M</th>\n",
       "      <th>STEO.COPC_OPEC.M</th>\n",
       "      <th>STEO.T3_STCHANGE_OOECD.M</th>\n",
       "      <th>...</th>\n",
       "      <th>CPIENGSL</th>\n",
       "      <th>CAPG211S</th>\n",
       "      <th>CAPUTLG211S</th>\n",
       "      <th>IPG211S</th>\n",
       "      <th>IPG211111CN</th>\n",
       "      <th>INDPRO</th>\n",
       "      <th>IPN213111N</th>\n",
       "      <th>PCU211211</th>\n",
       "      <th>WTISPLC</th>\n",
       "      <th>forecast</th>\n",
       "    </tr>\n",
       "  </thead>\n",
       "  <tbody>\n",
       "    <tr>\n",
       "      <th>2021-04-01</th>\n",
       "      <td>63.639851</td>\n",
       "      <td>30.361959</td>\n",
       "      <td>43.318906</td>\n",
       "      <td>52.166955</td>\n",
       "      <td>11.317989</td>\n",
       "      <td>15.162167</td>\n",
       "      <td>848</td>\n",
       "      <td>6.535000</td>\n",
       "      <td>31.530000</td>\n",
       "      <td>-0.272100</td>\n",
       "      <td>...</td>\n",
       "      <td>228.338</td>\n",
       "      <td>130.7368</td>\n",
       "      <td>94.3495</td>\n",
       "      <td>123.3496</td>\n",
       "      <td>165.4243</td>\n",
       "      <td>98.2886</td>\n",
       "      <td>85.2761</td>\n",
       "      <td>153.0</td>\n",
       "      <td>61.72</td>\n",
       "      <td>65.17</td>\n",
       "    </tr>\n",
       "    <tr>\n",
       "      <th>2021-03-01</th>\n",
       "      <td>63.546533</td>\n",
       "      <td>30.281925</td>\n",
       "      <td>43.697854</td>\n",
       "      <td>51.815354</td>\n",
       "      <td>11.351135</td>\n",
       "      <td>14.387129</td>\n",
       "      <td>704</td>\n",
       "      <td>6.525000</td>\n",
       "      <td>31.550000</td>\n",
       "      <td>1.950097</td>\n",
       "      <td>...</td>\n",
       "      <td>227.958</td>\n",
       "      <td>131.0194</td>\n",
       "      <td>93.2076</td>\n",
       "      <td>122.1201</td>\n",
       "      <td>165.8403</td>\n",
       "      <td>98.1351</td>\n",
       "      <td>81.4481</td>\n",
       "      <td>164.0</td>\n",
       "      <td>62.33</td>\n",
       "      <td>61.72</td>\n",
       "    </tr>\n",
       "    <tr>\n",
       "      <th>2021-02-01</th>\n",
       "      <td>60.395080</td>\n",
       "      <td>30.115158</td>\n",
       "      <td>41.908931</td>\n",
       "      <td>51.996820</td>\n",
       "      <td>9.915936</td>\n",
       "      <td>12.370929</td>\n",
       "      <td>634</td>\n",
       "      <td>6.585000</td>\n",
       "      <td>31.460000</td>\n",
       "      <td>1.249464</td>\n",
       "      <td>...</td>\n",
       "      <td>220.267</td>\n",
       "      <td>131.3435</td>\n",
       "      <td>82.0497</td>\n",
       "      <td>107.7669</td>\n",
       "      <td>150.8145</td>\n",
       "      <td>95.3744</td>\n",
       "      <td>80.6887</td>\n",
       "      <td>189.1</td>\n",
       "      <td>59.04</td>\n",
       "      <td>62.33</td>\n",
       "    </tr>\n",
       "    <tr>\n",
       "      <th>2021-01-01</th>\n",
       "      <td>63.280307</td>\n",
       "      <td>30.599510</td>\n",
       "      <td>41.788083</td>\n",
       "      <td>50.714775</td>\n",
       "      <td>11.137354</td>\n",
       "      <td>14.541839</td>\n",
       "      <td>510</td>\n",
       "      <td>5.685000</td>\n",
       "      <td>30.990000</td>\n",
       "      <td>-0.509581</td>\n",
       "      <td>...</td>\n",
       "      <td>211.921</td>\n",
       "      <td>131.7005</td>\n",
       "      <td>92.3355</td>\n",
       "      <td>121.6064</td>\n",
       "      <td>169.2416</td>\n",
       "      <td>98.7836</td>\n",
       "      <td>75.6587</td>\n",
       "      <td>140.8</td>\n",
       "      <td>52.00</td>\n",
       "      <td>59.04</td>\n",
       "    </tr>\n",
       "    <tr>\n",
       "      <th>2020-12-01</th>\n",
       "      <td>62.648828</td>\n",
       "      <td>30.431687</td>\n",
       "      <td>43.114330</td>\n",
       "      <td>50.983447</td>\n",
       "      <td>11.171507</td>\n",
       "      <td>14.139806</td>\n",
       "      <td>336</td>\n",
       "      <td>6.025000</td>\n",
       "      <td>31.280000</td>\n",
       "      <td>0.889581</td>\n",
       "      <td>...</td>\n",
       "      <td>206.140</td>\n",
       "      <td>132.0836</td>\n",
       "      <td>90.9267</td>\n",
       "      <td>120.0992</td>\n",
       "      <td>169.6635</td>\n",
       "      <td>97.9754</td>\n",
       "      <td>68.7785</td>\n",
       "      <td>129.3</td>\n",
       "      <td>47.02</td>\n",
       "      <td>52.00</td>\n",
       "    </tr>\n",
       "    <tr>\n",
       "      <th>...</th>\n",
       "      <td>...</td>\n",
       "      <td>...</td>\n",
       "      <td>...</td>\n",
       "      <td>...</td>\n",
       "      <td>...</td>\n",
       "      <td>...</td>\n",
       "      <td>...</td>\n",
       "      <td>...</td>\n",
       "      <td>...</td>\n",
       "      <td>...</td>\n",
       "      <td>...</td>\n",
       "      <td>...</td>\n",
       "      <td>...</td>\n",
       "      <td>...</td>\n",
       "      <td>...</td>\n",
       "      <td>...</td>\n",
       "      <td>...</td>\n",
       "      <td>...</td>\n",
       "      <td>...</td>\n",
       "      <td>...</td>\n",
       "      <td>...</td>\n",
       "    </tr>\n",
       "    <tr>\n",
       "      <th>2003-06-01</th>\n",
       "      <td>48.895490</td>\n",
       "      <td>28.993814</td>\n",
       "      <td>48.119533</td>\n",
       "      <td>30.827331</td>\n",
       "      <td>5.659077</td>\n",
       "      <td>15.620000</td>\n",
       "      <td>4722</td>\n",
       "      <td>2.138374</td>\n",
       "      <td>28.097749</td>\n",
       "      <td>-0.737567</td>\n",
       "      <td>...</td>\n",
       "      <td>129.800</td>\n",
       "      <td>64.6074</td>\n",
       "      <td>91.0202</td>\n",
       "      <td>58.8058</td>\n",
       "      <td>86.9731</td>\n",
       "      <td>90.5218</td>\n",
       "      <td>103.1716</td>\n",
       "      <td>169.3</td>\n",
       "      <td>30.72</td>\n",
       "      <td>30.76</td>\n",
       "    </tr>\n",
       "    <tr>\n",
       "      <th>2003-05-01</th>\n",
       "      <td>48.957679</td>\n",
       "      <td>29.640108</td>\n",
       "      <td>47.515790</td>\n",
       "      <td>30.425602</td>\n",
       "      <td>5.663475</td>\n",
       "      <td>15.910000</td>\n",
       "      <td>5060</td>\n",
       "      <td>1.185702</td>\n",
       "      <td>27.859523</td>\n",
       "      <td>-0.476290</td>\n",
       "      <td>...</td>\n",
       "      <td>129.400</td>\n",
       "      <td>64.5345</td>\n",
       "      <td>90.8138</td>\n",
       "      <td>58.6062</td>\n",
       "      <td>87.0407</td>\n",
       "      <td>90.4073</td>\n",
       "      <td>101.5677</td>\n",
       "      <td>152.7</td>\n",
       "      <td>28.14</td>\n",
       "      <td>30.72</td>\n",
       "    </tr>\n",
       "    <tr>\n",
       "      <th>2003-04-01</th>\n",
       "      <td>49.153074</td>\n",
       "      <td>29.492674</td>\n",
       "      <td>48.385719</td>\n",
       "      <td>29.941029</td>\n",
       "      <td>5.725816</td>\n",
       "      <td>15.575000</td>\n",
       "      <td>5279</td>\n",
       "      <td>0.820811</td>\n",
       "      <td>27.293232</td>\n",
       "      <td>-0.284933</td>\n",
       "      <td>...</td>\n",
       "      <td>136.500</td>\n",
       "      <td>64.4629</td>\n",
       "      <td>92.4046</td>\n",
       "      <td>59.5667</td>\n",
       "      <td>87.9987</td>\n",
       "      <td>90.4281</td>\n",
       "      <td>96.1021</td>\n",
       "      <td>150.2</td>\n",
       "      <td>28.25</td>\n",
       "      <td>28.14</td>\n",
       "    </tr>\n",
       "    <tr>\n",
       "      <th>2003-03-01</th>\n",
       "      <td>49.557978</td>\n",
       "      <td>30.225636</td>\n",
       "      <td>49.263850</td>\n",
       "      <td>30.374890</td>\n",
       "      <td>5.803461</td>\n",
       "      <td>14.933000</td>\n",
       "      <td>4883</td>\n",
       "      <td>0.957693</td>\n",
       "      <td>28.249329</td>\n",
       "      <td>-1.772806</td>\n",
       "      <td>...</td>\n",
       "      <td>143.900</td>\n",
       "      <td>64.3984</td>\n",
       "      <td>93.0506</td>\n",
       "      <td>59.9231</td>\n",
       "      <td>89.1924</td>\n",
       "      <td>91.0059</td>\n",
       "      <td>92.6404</td>\n",
       "      <td>220.0</td>\n",
       "      <td>33.55</td>\n",
       "      <td>28.25</td>\n",
       "    </tr>\n",
       "    <tr>\n",
       "      <th>2003-02-01</th>\n",
       "      <td>49.747560</td>\n",
       "      <td>29.559905</td>\n",
       "      <td>51.833868</td>\n",
       "      <td>30.708553</td>\n",
       "      <td>5.782863</td>\n",
       "      <td>14.381000</td>\n",
       "      <td>3672</td>\n",
       "      <td>2.364945</td>\n",
       "      <td>29.034000</td>\n",
       "      <td>1.369643</td>\n",
       "      <td>...</td>\n",
       "      <td>140.800</td>\n",
       "      <td>64.3475</td>\n",
       "      <td>93.7039</td>\n",
       "      <td>60.2961</td>\n",
       "      <td>88.8760</td>\n",
       "      <td>91.2502</td>\n",
       "      <td>91.0074</td>\n",
       "      <td>170.2</td>\n",
       "      <td>35.87</td>\n",
       "      <td>33.55</td>\n",
       "    </tr>\n",
       "  </tbody>\n",
       "</table>\n",
       "<p>219 rows × 21 columns</p>\n",
       "</div>"
      ],
      "text/plain": [
       "            STEO.PAPR_NONOPEC.M  STEO.PAPR_OPEC.M  STEO.PATC_OECD.M  \\\n",
       "2021-04-01            63.639851         30.361959         43.318906   \n",
       "2021-03-01            63.546533         30.281925         43.697854   \n",
       "2021-02-01            60.395080         30.115158         41.908931   \n",
       "2021-01-01            63.280307         30.599510         41.788083   \n",
       "2020-12-01            62.648828         30.431687         43.114330   \n",
       "...                         ...               ...               ...   \n",
       "2003-06-01            48.895490         28.993814         48.119533   \n",
       "2003-05-01            48.957679         29.640108         47.515790   \n",
       "2003-04-01            49.153074         29.492674         48.385719   \n",
       "2003-03-01            49.557978         30.225636         49.263850   \n",
       "2003-02-01            49.747560         29.559905         51.833868   \n",
       "\n",
       "            STEO.PATC_NON_OECD.M  STEO.COPRPUS.M  STEO.CORIPUS.M  \\\n",
       "2021-04-01             52.166955       11.317989       15.162167   \n",
       "2021-03-01             51.815354       11.351135       14.387129   \n",
       "2021-02-01             51.996820        9.915936       12.370929   \n",
       "2021-01-01             50.714775       11.137354       14.541839   \n",
       "2020-12-01             50.983447       11.171507       14.139806   \n",
       "...                          ...             ...             ...   \n",
       "2003-06-01             30.827331        5.659077       15.620000   \n",
       "2003-05-01             30.425602        5.663475       15.910000   \n",
       "2003-04-01             29.941029        5.725816       15.575000   \n",
       "2003-03-01             30.374890        5.803461       14.933000   \n",
       "2003-02-01             30.708553        5.782863       14.381000   \n",
       "\n",
       "            PET.MCRIMXX2.M  STEO.COPS_OPEC.M  STEO.COPC_OPEC.M  \\\n",
       "2021-04-01             848          6.535000         31.530000   \n",
       "2021-03-01             704          6.525000         31.550000   \n",
       "2021-02-01             634          6.585000         31.460000   \n",
       "2021-01-01             510          5.685000         30.990000   \n",
       "2020-12-01             336          6.025000         31.280000   \n",
       "...                    ...               ...               ...   \n",
       "2003-06-01            4722          2.138374         28.097749   \n",
       "2003-05-01            5060          1.185702         27.859523   \n",
       "2003-04-01            5279          0.820811         27.293232   \n",
       "2003-03-01            4883          0.957693         28.249329   \n",
       "2003-02-01            3672          2.364945         29.034000   \n",
       "\n",
       "            STEO.T3_STCHANGE_OOECD.M  ...  CPIENGSL  CAPG211S  CAPUTLG211S  \\\n",
       "2021-04-01                 -0.272100  ...   228.338  130.7368      94.3495   \n",
       "2021-03-01                  1.950097  ...   227.958  131.0194      93.2076   \n",
       "2021-02-01                  1.249464  ...   220.267  131.3435      82.0497   \n",
       "2021-01-01                 -0.509581  ...   211.921  131.7005      92.3355   \n",
       "2020-12-01                  0.889581  ...   206.140  132.0836      90.9267   \n",
       "...                              ...  ...       ...       ...          ...   \n",
       "2003-06-01                 -0.737567  ...   129.800   64.6074      91.0202   \n",
       "2003-05-01                 -0.476290  ...   129.400   64.5345      90.8138   \n",
       "2003-04-01                 -0.284933  ...   136.500   64.4629      92.4046   \n",
       "2003-03-01                 -1.772806  ...   143.900   64.3984      93.0506   \n",
       "2003-02-01                  1.369643  ...   140.800   64.3475      93.7039   \n",
       "\n",
       "             IPG211S  IPG211111CN   INDPRO  IPN213111N  PCU211211  WTISPLC  \\\n",
       "2021-04-01  123.3496     165.4243  98.2886     85.2761      153.0    61.72   \n",
       "2021-03-01  122.1201     165.8403  98.1351     81.4481      164.0    62.33   \n",
       "2021-02-01  107.7669     150.8145  95.3744     80.6887      189.1    59.04   \n",
       "2021-01-01  121.6064     169.2416  98.7836     75.6587      140.8    52.00   \n",
       "2020-12-01  120.0992     169.6635  97.9754     68.7785      129.3    47.02   \n",
       "...              ...          ...      ...         ...        ...      ...   \n",
       "2003-06-01   58.8058      86.9731  90.5218    103.1716      169.3    30.72   \n",
       "2003-05-01   58.6062      87.0407  90.4073    101.5677      152.7    28.14   \n",
       "2003-04-01   59.5667      87.9987  90.4281     96.1021      150.2    28.25   \n",
       "2003-03-01   59.9231      89.1924  91.0059     92.6404      220.0    33.55   \n",
       "2003-02-01   60.2961      88.8760  91.2502     91.0074      170.2    35.87   \n",
       "\n",
       "            forecast  \n",
       "2021-04-01     65.17  \n",
       "2021-03-01     61.72  \n",
       "2021-02-01     62.33  \n",
       "2021-01-01     59.04  \n",
       "2020-12-01     52.00  \n",
       "...              ...  \n",
       "2003-06-01     30.76  \n",
       "2003-05-01     30.72  \n",
       "2003-04-01     28.14  \n",
       "2003-03-01     28.25  \n",
       "2003-02-01     33.55  \n",
       "\n",
       "[219 rows x 21 columns]"
      ]
     },
     "execution_count": 16,
     "metadata": {},
     "output_type": "execute_result"
    }
   ],
   "source": [
    "data = pd.concat(data_merge, axis=1, join='inner');\n",
    "data"
   ]
  },
  {
   "cell_type": "code",
   "execution_count": 17,
   "metadata": {
    "id": "7a9M4X3nGmJs"
   },
   "outputs": [],
   "source": [
    "train_data = data[: int(data.shape[0] * 0.80)];\n",
    "vald_data = data[int(0.80 * data.shape[0]) : int(0.90 * data.shape[0])];\n",
    "test_data = data[int(0.90* data.shape[0]) : int(data.shape[0])];"
   ]
  },
  {
   "cell_type": "code",
   "execution_count": null,
   "metadata": {
    "id": "7TrlcgspHF6I"
   },
   "outputs": [],
   "source": []
  },
  {
   "cell_type": "markdown",
   "metadata": {
    "id": "NKKcm8qFLM4F"
   },
   "source": [
    "### Data Discretisation\n",
    "\n",
    "The data we have collected is non-categorical data; it is unlabelled and continuous. Belief networks have variables, each having discrete **states**, and therefore we have to reduce our data from prices to a set of states, such as bull, bear, and stagnant markets. In order to detect these (hidden) states, we have to use graphical models called **Hidden Markov Models**. The process of detecting hidden states in time-series data is called **Regime Detection**."
   ]
  },
  {
   "cell_type": "code",
   "execution_count": null,
   "metadata": {
    "id": "n8TGqbjoLOZu"
   },
   "outputs": [],
   "source": []
  },
  {
   "cell_type": "markdown",
   "metadata": {
    "id": "b4rd9eKTLcuB"
   },
   "source": [
    "## Regime Detection\n",
    "\n",
    "A **Hidden Markov Model** is a 5-tuple $(Q, \\sum, \\Pi, A, B)$, where $Q = \\{q_{1}, \\cdots, q_{N}\\}$ is a finite set of $\\mathcal{N}$ states, $\\sum = \\{s_1, \\cdots, s_{N}\\}$ is the set of $\\mathcal{M}$ possible symbols (emissions) in the language, $\\Pi = \\{\\pi_{i}\\}$  is the initial probability vector, $A = \\{a_{ij}\\}$ is the state transition probability matrix, and $B = \\{b_i(v_k)\\}$ is the emission probability matrix. The HMM can be denoted by $\\lambda = (\\Pi, A, B)$.\n",
    "\n",
    "For detecting regimes in time-series data, we would be using **Hidden Markov Models**, with the difference between consecutive months being the symbols $\\sum$ (1 - increase / 0 - decrease), the hidden states, $Q$ being the **bull**, **bear**, **stagnant** market regimes.\n",
    "\n",
    "Let us use '**WTISPL**' (Spot Crude Oil Price: West Texas Intermediate)  of  and try to identify regimes in the time series."
   ]
  },
  {
   "cell_type": "code",
   "execution_count": 18,
   "metadata": {
    "colab": {
     "base_uri": "https://localhost:8080/"
    },
    "id": "4ZTHeSc0Lt6V",
    "outputId": "795bb8af-dd3c-46f4-b1cb-c395471c4251"
   },
   "outputs": [],
   "source": [
    "# !pip install hmms"
   ]
  },
  {
   "cell_type": "markdown",
   "metadata": {
    "id": "LOH_MOOVpiiG"
   },
   "source": [
    "### Vitabi Algorithm"
   ]
  },
  {
   "cell_type": "markdown",
   "metadata": {
    "id": "VzJmgc_lNE3J"
   },
   "source": [
    "### Discretising dataframes using Hidden Markov Models\n",
    "\n",
    "We will write a function that trains an HMM, identifies the sequence of hidden states, and then constructs a dataframe of all the variables and stores it as training dataset."
   ]
  },
  {
   "cell_type": "code",
   "execution_count": null,
   "metadata": {
    "id": "5jonbjP2NGBA"
   },
   "outputs": [],
   "source": []
  },
  {
   "cell_type": "markdown",
   "metadata": {
    "id": "LYqX8evzwOt_"
   },
   "source": [
    "##  Bayesian Network using Hill Climbing\n",
    "\n",
    "We will also use BIC score"
   ]
  },
  {
   "cell_type": "code",
   "execution_count": 19,
   "metadata": {
    "colab": {
     "base_uri": "https://localhost:8080/"
    },
    "id": "mpMMPIQLweEh",
    "outputId": "c2d5235f-c31b-42b5-cdc0-d577e0f2f91b"
   },
   "outputs": [],
   "source": [
    "#!pip install pgmpy"
   ]
  },
  {
   "cell_type": "code",
   "execution_count": 20,
   "metadata": {
    "id": "asfrhrJEuMJl"
   },
   "outputs": [],
   "source": [
    "from pgmpy.models import BayesianModel\n",
    "from pgmpy.models import BayesianNetwork\n",
    "from pgmpy.estimators import HillClimbSearch\n",
    "from pgmpy.estimators import BayesianEstimator\n",
    "from pgmpy.estimators import BicScore, K2Score\n",
    "\n",
    "# Retrieve training set\n",
    "# train_data = pd.read_csv(\"./train_data.csv\", index_col=0);\n"
   ]
  },
  {
   "cell_type": "code",
   "execution_count": 52,
   "metadata": {
    "id": "JlDQeF6Awske"
   },
   "outputs": [
    {
     "data": {
      "application/vnd.jupyter.widget-view+json": {
       "model_id": "d2ea752c210944fabb8b8284f1f28da5",
       "version_major": 2,
       "version_minor": 0
      },
      "text/plain": [
       "  0%|          | 0/1000000 [00:00<?, ?it/s]"
      ]
     },
     "metadata": {},
     "output_type": "display_data"
    },
    {
     "name": "stderr",
     "output_type": "stream",
     "text": [
      "WARNING:pgmpy:BayesianModel has been renamed to BayesianNetwork. Please use BayesianNetwork class, BayesianModel will be removed in future.\n"
     ]
    },
    {
     "name": "stdout",
     "output_type": "stream",
     "text": [
      "Nodes in the best model: ['CAPG211S', 'CAPUTLG211S', 'CPIENGSL', 'INDPRO', 'IPG211111CN', 'IPG211S', 'IPN213111N', 'PCU211211', 'PET.MCRIMXX2.M', 'STEO.COPC_OPEC.M', 'STEO.COPRPUS.M', 'STEO.COPS_OPEC.M', 'STEO.CORIPUS.M', 'STEO.PAPR_NONOPEC.M', 'STEO.PAPR_OPEC.M', 'STEO.PATC_NON_OECD.M', 'STEO.PATC_OECD.M', 'STEO.T3_STCHANGE_NOECD.M', 'STEO.T3_STCHANGE_OOECD.M', 'WTISPLC', 'forecast']\n",
      "Edges in the best model: [('STEO.PAPR_OPEC.M', 'STEO.COPS_OPEC.M'), ('STEO.PAPR_OPEC.M', 'CAPUTLG211S'), ('STEO.PAPR_OPEC.M', 'STEO.PATC_OECD.M'), ('STEO.PATC_NON_OECD.M', 'PCU211211'), ('STEO.PATC_NON_OECD.M', 'STEO.CORIPUS.M'), ('STEO.PATC_NON_OECD.M', 'CPIENGSL'), ('STEO.PATC_NON_OECD.M', 'INDPRO'), ('STEO.COPRPUS.M', 'IPG211111CN'), ('STEO.COPRPUS.M', 'STEO.PAPR_NONOPEC.M'), ('STEO.COPRPUS.M', 'IPG211S'), ('PET.MCRIMXX2.M', 'STEO.PAPR_OPEC.M'), ('PET.MCRIMXX2.M', 'STEO.COPC_OPEC.M'), ('STEO.COPS_OPEC.M', 'INDPRO'), ('STEO.COPS_OPEC.M', 'IPN213111N'), ('CPIENGSL', 'IPN213111N'), ('CAPG211S', 'STEO.PATC_NON_OECD.M'), ('IPG211S', 'CAPG211S'), ('IPG211111CN', 'PET.MCRIMXX2.M'), ('INDPRO', 'STEO.CORIPUS.M'), ('PCU211211', 'forecast'), ('WTISPLC', 'CPIENGSL'), ('forecast', 'WTISPLC')]\n"
     ]
    },
    {
     "data": {
      "image/png": "[encoded data removed]",
      "text/plain": [
       "<Figure size 640x480 with 1 Axes>"
      ]
     },
     "metadata": {},
     "output_type": "display_data"
    },
    {
     "data": {
      "text/plain": [
       "<Figure size 2000x1000 with 0 Axes>"
      ]
     },
     "metadata": {},
     "output_type": "display_data"
    },
    {
     "data": {
      "text/plain": [
       "[('STEO.PAPR_OPEC.M', 'STEO.COPS_OPEC.M'),\n",
       " ('STEO.PAPR_OPEC.M', 'CAPUTLG211S'),\n",
       " ('STEO.PAPR_OPEC.M', 'STEO.PATC_OECD.M'),\n",
       " ('STEO.COPS_OPEC.M', 'INDPRO'),\n",
       " ('STEO.COPS_OPEC.M', 'IPN213111N'),\n",
       " ('STEO.PATC_NON_OECD.M', 'PCU211211'),\n",
       " ('STEO.PATC_NON_OECD.M', 'STEO.CORIPUS.M'),\n",
       " ('STEO.PATC_NON_OECD.M', 'CPIENGSL'),\n",
       " ('STEO.PATC_NON_OECD.M', 'INDPRO'),\n",
       " ('PCU211211', 'forecast'),\n",
       " ('CPIENGSL', 'IPN213111N'),\n",
       " ('INDPRO', 'STEO.CORIPUS.M'),\n",
       " ('STEO.COPRPUS.M', 'IPG211111CN'),\n",
       " ('STEO.COPRPUS.M', 'STEO.PAPR_NONOPEC.M'),\n",
       " ('STEO.COPRPUS.M', 'IPG211S'),\n",
       " ('IPG211111CN', 'PET.MCRIMXX2.M'),\n",
       " ('IPG211S', 'CAPG211S'),\n",
       " ('PET.MCRIMXX2.M', 'STEO.PAPR_OPEC.M'),\n",
       " ('PET.MCRIMXX2.M', 'STEO.COPC_OPEC.M'),\n",
       " ('CAPG211S', 'STEO.PATC_NON_OECD.M'),\n",
       " ('forecast', 'WTISPLC'),\n",
       " ('WTISPLC', 'CPIENGSL')]"
      ]
     },
     "execution_count": 52,
     "metadata": {},
     "output_type": "execute_result"
    }
   ],
   "source": [
    "import pandas as pd\n",
    "from pgmpy.estimators import HillClimbSearch, BicScore, BayesianEstimator\n",
    "from pgmpy.models import BayesianModel\n",
    "\n",
    "\n",
    "# Discretize the continuous variables using pandas cut function\n",
    "num_bins = 3  # Adjust the number of bins as needed\n",
    "train_data_discretized = pd.DataFrame()\n",
    "for column in train_data.columns:\n",
    "    if pd.api.types.is_numeric_dtype(train_data[column].dtype):  # Check if the column is numeric (int or float)\n",
    "        train_data_discretized[column] = pd.cut(train_data[column], bins=num_bins, labels=False)\n",
    "        train_data_discretized[column] = train_data_discretized[column].astype('category')\n",
    "    else:\n",
    "        train_data_discretized[column] = train_data[column]\n",
    "\n",
    "\n",
    "# Initialize Hill Climbing Estimator with BicScore\n",
    "state_names=dict(map(lambda e: (e, [0, 1, 2]), data.columns))\n",
    "# print(state_names)\n",
    "\n",
    "# Initialize Hill Climbing Estimator with BicScore\n",
    "est = HillClimbSearch(train_data_discretized)\n",
    "best_model = est.estimate(scoring_method=BicScore(train_data_discretized))\n",
    "# est = HillClimbSearch(train_data)\n",
    "# best_model = est.estimate(scoring_method=BicScore(train_data,state_names=state_names))\n",
    "# Extract variable names from the best_model edges\n",
    "variable_names = list(set(edge[0] for edge in best_model.edges()) | set(edge[1] for edge in best_model.edges()))\n",
    "# Ensure that all variables in the data are included\n",
    "missing_variables = set(data.columns) - set(variable_names)\n",
    "# if missing_variables:\n",
    "#     raise ValueError(f\"Missing variables in BayesianModel: {missing_variables}\")\n",
    "\n",
    "\n",
    "\n",
    "# Fit the model to the training data\n",
    "model = BayesianModel(best_model.edges())\n",
    "# Add missing variables to the model\n",
    "model.add_nodes_from(missing_variables)\n",
    "# states=dict(map(lambda e: (e, [0, 1, 2]), data.columns))\n",
    "# print(states)\n",
    "model.fit(\n",
    "    train_data_discretized,\n",
    "    state_names=dict(map(lambda e: (e, [0, 1, 2]), data.columns)),\n",
    "    estimator=BayesianEstimator,\n",
    "    prior_type=\"K2\"\n",
    ")\n",
    "# Print results\n",
    "print(\"Nodes in the best model:\", sorted(best_model.nodes()))\n",
    "print(\"Edges in the best model:\", list(best_model.edges()))\n",
    "\n",
    "# Visualization using networkx and matplotlib\n",
    "import networkx as nx\n",
    "import matplotlib.pyplot as plt\n",
    "\n",
    "G = nx.Graph()\n",
    "G.add_edges_from(model.edges())\n",
    "pos = nx.spring_layout(G)\n",
    "nx.draw_networkx_nodes(G, pos, node_size=10)\n",
    "nx.draw_networkx_edges(G, pos, arrows=True)\n",
    "plt.figure(figsize=(20, 10))\n",
    "plt.show()\n",
    "\n",
    "# Display the nodes and edges of the best model\n",
    "sorted(model.nodes())\n",
    "list(model.edges())\n"
   ]
  },
  {
   "cell_type": "markdown",
   "metadata": {},
   "source": [
    "## Validation of the model"
   ]
  },
  {
   "cell_type": "code",
   "execution_count": 43,
   "metadata": {
    "id": "LoHu6RNby0Dh"
   },
   "outputs": [],
   "source": [
    "# Assuming the model is already trained using the training set\n",
    "# ...\n",
    "\n",
    "# Predict probabilities on the validation set\n",
    "val_data_discretized = pd.DataFrame()\n",
    "for column in vald_data.columns:\n",
    "    if pd.api.types.is_numeric_dtype(vald_data[column].dtype):\n",
    "        val_data_discretized[column] = pd.cut(vald_data[column], bins=num_bins, labels=False)\n",
    "        val_data_discretized[column] = val_data_discretized[column].astype('category')\n",
    "    else:\n",
    "        val_data_discretized[column] = vald_data[column]\n",
    "\n",
    "\n",
    "\n"
   ]
  },
  {
   "cell_type": "markdown",
   "metadata": {},
   "source": [
    "**Log-likelihood score**"
   ]
  },
  {
   "cell_type": "code",
   "execution_count": 36,
   "metadata": {
    "id": "a96WWOPJ4dQH"
   },
   "outputs": [],
   "source": [
    "from pgmpy.metrics import log_likelihood_score"
   ]
  },
  {
   "cell_type": "code",
   "execution_count": 46,
   "metadata": {
    "id": "u5DlzvSxRnUS"
   },
   "outputs": [
    {
     "data": {
      "text/plain": [
       "-693.012505347816"
      ]
     },
     "execution_count": 46,
     "metadata": {},
     "output_type": "execute_result"
    }
   ],
   "source": [
    "log_likelihood_score(model, val_data_discretized)"
   ]
  },
  {
   "cell_type": "markdown",
   "metadata": {},
   "source": [
    "**Structure score**"
   ]
  },
  {
   "cell_type": "code",
   "execution_count": 47,
   "metadata": {},
   "outputs": [
    {
     "data": {
      "text/plain": [
       "-565.343883684453"
      ]
     },
     "execution_count": 47,
     "metadata": {},
     "output_type": "execute_result"
    }
   ],
   "source": [
    "from pgmpy.metrics import structure_score\n",
    "structure_score(model, val_data_discretized)"
   ]
  },
  {
   "cell_type": "markdown",
   "metadata": {},
   "source": [
    "**Accuracy**\n",
    "\n",
    "Let's now compare the accurance by looking at the predicted values and actual values"
   ]
  },
  {
   "cell_type": "code",
   "execution_count": 69,
   "metadata": {},
   "outputs": [
    {
     "data": {
      "application/vnd.jupyter.widget-view+json": {
       "model_id": "c61d49d9b848447badbfccffdba43b02",
       "version_major": 2,
       "version_minor": 0
      },
      "text/plain": [
       "  0%|          | 0/22 [00:00<?, ?it/s]"
      ]
     },
     "metadata": {},
     "output_type": "display_data"
    }
   ],
   "source": [
    "# Predict probabilities on the validation set\n",
    "predicted_data = model.predict(val_data_discretized.drop(columns='forecast'))\n",
    "# Actual values\n",
    "validation_data_fore=val_data_discretized['forecast']"
   ]
  },
  {
   "cell_type": "code",
   "execution_count": 71,
   "metadata": {},
   "outputs": [
    {
     "data": {
      "text/plain": [
       "[1, 2, 1, 1, 2, 2, 1, 1, 2, 2, 2, 2, 2, 2, 1, 1, 0, 0, 1, 0, 0, 0]"
      ]
     },
     "execution_count": 71,
     "metadata": {},
     "output_type": "execute_result"
    }
   ],
   "source": [
    "list(predicted_data['forecast'])"
   ]
  },
  {
   "cell_type": "code",
   "execution_count": 72,
   "metadata": {},
   "outputs": [
    {
     "data": {
      "text/plain": [
       "[1, 1, 2, 2, 2, 2, 2, 1, 1, 2, 1, 1, 1, 2, 1, 1, 1, 0, 0, 0, 0, 0]"
      ]
     },
     "execution_count": 72,
     "metadata": {},
     "output_type": "execute_result"
    }
   ],
   "source": [
    "list(validation_data_fore)"
   ]
  },
  {
   "cell_type": "code",
   "execution_count": 70,
   "metadata": {},
   "outputs": [
    {
     "name": "stdout",
     "output_type": "stream",
     "text": [
      "Accuracy: 0.5454545454545454\n"
     ]
    }
   ],
   "source": [
    "from sklearn.metrics import accuracy_score\n",
    "\n",
    "# Assuming val_data_fore and predicted_data are Series\n",
    "accuracy = accuracy_score(val_data_fore, predicted_data)\n",
    "print(f\"Accuracy: {accuracy}\")\n"
   ]
  },
  {
   "cell_type": "markdown",
   "metadata": {},
   "source": [
    "Therefore the general accuracy is 54% which is greater than the accuracy in the Alvi's paper."
   ]
  },
  {
   "cell_type": "code",
   "execution_count": null,
   "metadata": {},
   "outputs": [],
   "source": []
  }
 ],
 "metadata": {
  "colab": {
   "provenance": []
  },
  "kernelspec": {
   "display_name": "Python 3 (ipykernel)",
   "language": "python",
   "name": "python3"
  },
  "language_info": {
   "codemirror_mode": {
    "name": "ipython",
    "version": 3
   },
   "file_extension": ".py",
   "mimetype": "text/x-python",
   "name": "python",
   "nbconvert_exporter": "python",
   "pygments_lexer": "ipython3",
   "version": "3.12.4"
  },
  "widgets": {
   "application/vnd.jupyter.widget-state+json": {
    "19dd77a564cc45f9bf22684edea7919b": {
     "model_module": "@jupyter-widgets/controls",
     "model_module_version": "1.5.0",
     "model_name": "HTMLModel",
     "state": {
      "_dom_classes": [],
      "_model_module": "@jupyter-widgets/controls",
      "_model_module_version": "1.5.0",
      "_model_name": "HTMLModel",
      "_view_count": null,
      "_view_module": "@jupyter-widgets/controls",
      "_view_module_version": "1.5.0",
      "_view_name": "HTMLView",
      "description": "",
      "description_tooltip": null,
      "layout": "IPY_MODEL_c103284b73c241b8b38ae2fb0c2991fd",
      "placeholder": "​",
      "style": "IPY_MODEL_594a1cd2333d4bf0b0810540a1465cab",
      "value": "  0%"
     }
    },
    "594a1cd2333d4bf0b0810540a1465cab": {
     "model_module": "@jupyter-widgets/controls",
     "model_module_version": "1.5.0",
     "model_name": "DescriptionStyleModel",
     "state": {
      "_model_module": "@jupyter-widgets/controls",
      "_model_module_version": "1.5.0",
      "_model_name": "DescriptionStyleModel",
      "_view_count": null,
      "_view_module": "@jupyter-widgets/base",
      "_view_module_version": "1.2.0",
      "_view_name": "StyleView",
      "description_width": ""
     }
    },
    "5b32bf64a1c54ebaac80aafa888cbdf9": {
     "model_module": "@jupyter-widgets/controls",
     "model_module_version": "1.5.0",
     "model_name": "DescriptionStyleModel",
     "state": {
      "_model_module": "@jupyter-widgets/controls",
      "_model_module_version": "1.5.0",
      "_model_name": "DescriptionStyleModel",
      "_view_count": null,
      "_view_module": "@jupyter-widgets/base",
      "_view_module_version": "1.2.0",
      "_view_name": "StyleView",
      "description_width": ""
     }
    },
    "610871130635485aaf75b23e6f867ca1": {
     "model_module": "@jupyter-widgets/controls",
     "model_module_version": "1.5.0",
     "model_name": "HTMLModel",
     "state": {
      "_dom_classes": [],
      "_model_module": "@jupyter-widgets/controls",
      "_model_module_version": "1.5.0",
      "_model_name": "HTMLModel",
      "_view_count": null,
      "_view_module": "@jupyter-widgets/controls",
      "_view_module_version": "1.5.0",
      "_view_name": "HTMLView",
      "description": "",
      "description_tooltip": null,
      "layout": "IPY_MODEL_cb1b370e6b8444f895852877fbdb3fe1",
      "placeholder": "​",
      "style": "IPY_MODEL_5b32bf64a1c54ebaac80aafa888cbdf9",
      "value": " 15/1000000 [00:06&lt;47:51:42,  5.80it/s]"
     }
    },
    "6becf14f971542f1b44a080b0b73469e": {
     "model_module": "@jupyter-widgets/base",
     "model_module_version": "1.2.0",
     "model_name": "LayoutModel",
     "state": {
      "_model_module": "@jupyter-widgets/base",
      "_model_module_version": "1.2.0",
      "_model_name": "LayoutModel",
      "_view_count": null,
      "_view_module": "@jupyter-widgets/base",
      "_view_module_version": "1.2.0",
      "_view_name": "LayoutView",
      "align_content": null,
      "align_items": null,
      "align_self": null,
      "border": null,
      "bottom": null,
      "display": null,
      "flex": null,
      "flex_flow": null,
      "grid_area": null,
      "grid_auto_columns": null,
      "grid_auto_flow": null,
      "grid_auto_rows": null,
      "grid_column": null,
      "grid_gap": null,
      "grid_row": null,
      "grid_template_areas": null,
      "grid_template_columns": null,
      "grid_template_rows": null,
      "height": null,
      "justify_content": null,
      "justify_items": null,
      "left": null,
      "margin": null,
      "max_height": null,
      "max_width": null,
      "min_height": null,
      "min_width": null,
      "object_fit": null,
      "object_position": null,
      "order": null,
      "overflow": null,
      "overflow_x": null,
      "overflow_y": null,
      "padding": null,
      "right": null,
      "top": null,
      "visibility": null,
      "width": null
     }
    },
    "793999e7e1e642cbb1586cc8c2292907": {
     "model_module": "@jupyter-widgets/base",
     "model_module_version": "1.2.0",
     "model_name": "LayoutModel",
     "state": {
      "_model_module": "@jupyter-widgets/base",
      "_model_module_version": "1.2.0",
      "_model_name": "LayoutModel",
      "_view_count": null,
      "_view_module": "@jupyter-widgets/base",
      "_view_module_version": "1.2.0",
      "_view_name": "LayoutView",
      "align_content": null,
      "align_items": null,
      "align_self": null,
      "border": null,
      "bottom": null,
      "display": null,
      "flex": null,
      "flex_flow": null,
      "grid_area": null,
      "grid_auto_columns": null,
      "grid_auto_flow": null,
      "grid_auto_rows": null,
      "grid_column": null,
      "grid_gap": null,
      "grid_row": null,
      "grid_template_areas": null,
      "grid_template_columns": null,
      "grid_template_rows": null,
      "height": null,
      "justify_content": null,
      "justify_items": null,
      "left": null,
      "margin": null,
      "max_height": null,
      "max_width": null,
      "min_height": null,
      "min_width": null,
      "object_fit": null,
      "object_position": null,
      "order": null,
      "overflow": null,
      "overflow_x": null,
      "overflow_y": null,
      "padding": null,
      "right": null,
      "top": null,
      "visibility": null,
      "width": null
     }
    },
    "7d29a2fa6afe4f5bb9d569914f36e226": {
     "model_module": "@jupyter-widgets/controls",
     "model_module_version": "1.5.0",
     "model_name": "FloatProgressModel",
     "state": {
      "_dom_classes": [],
      "_model_module": "@jupyter-widgets/controls",
      "_model_module_version": "1.5.0",
      "_model_name": "FloatProgressModel",
      "_view_count": null,
      "_view_module": "@jupyter-widgets/controls",
      "_view_module_version": "1.5.0",
      "_view_name": "ProgressView",
      "bar_style": "danger",
      "description": "",
      "description_tooltip": null,
      "layout": "IPY_MODEL_793999e7e1e642cbb1586cc8c2292907",
      "max": 1000000,
      "min": 0,
      "orientation": "horizontal",
      "style": "IPY_MODEL_a9a1cf2891f845a489b9277cddd64a69",
      "value": 15
     }
    },
    "a9a1cf2891f845a489b9277cddd64a69": {
     "model_module": "@jupyter-widgets/controls",
     "model_module_version": "1.5.0",
     "model_name": "ProgressStyleModel",
     "state": {
      "_model_module": "@jupyter-widgets/controls",
      "_model_module_version": "1.5.0",
      "_model_name": "ProgressStyleModel",
      "_view_count": null,
      "_view_module": "@jupyter-widgets/base",
      "_view_module_version": "1.2.0",
      "_view_name": "StyleView",
      "bar_color": null,
      "description_width": ""
     }
    },
    "ba3a504862cb469288c8e00782f63105": {
     "model_module": "@jupyter-widgets/controls",
     "model_module_version": "1.5.0",
     "model_name": "HBoxModel",
     "state": {
      "_dom_classes": [],
      "_model_module": "@jupyter-widgets/controls",
      "_model_module_version": "1.5.0",
      "_model_name": "HBoxModel",
      "_view_count": null,
      "_view_module": "@jupyter-widgets/controls",
      "_view_module_version": "1.5.0",
      "_view_name": "HBoxView",
      "box_style": "",
      "children": [
       "IPY_MODEL_19dd77a564cc45f9bf22684edea7919b",
       "IPY_MODEL_7d29a2fa6afe4f5bb9d569914f36e226",
       "IPY_MODEL_610871130635485aaf75b23e6f867ca1"
      ],
      "layout": "IPY_MODEL_6becf14f971542f1b44a080b0b73469e"
     }
    },
    "c103284b73c241b8b38ae2fb0c2991fd": {
     "model_module": "@jupyter-widgets/base",
     "model_module_version": "1.2.0",
     "model_name": "LayoutModel",
     "state": {
      "_model_module": "@jupyter-widgets/base",
      "_model_module_version": "1.2.0",
      "_model_name": "LayoutModel",
      "_view_count": null,
      "_view_module": "@jupyter-widgets/base",
      "_view_module_version": "1.2.0",
      "_view_name": "LayoutView",
      "align_content": null,
      "align_items": null,
      "align_self": null,
      "border": null,
      "bottom": null,
      "display": null,
      "flex": null,
      "flex_flow": null,
      "grid_area": null,
      "grid_auto_columns": null,
      "grid_auto_flow": null,
      "grid_auto_rows": null,
      "grid_column": null,
      "grid_gap": null,
      "grid_row": null,
      "grid_template_areas": null,
      "grid_template_columns": null,
      "grid_template_rows": null,
      "height": null,
      "justify_content": null,
      "justify_items": null,
      "left": null,
      "margin": null,
      "max_height": null,
      "max_width": null,
      "min_height": null,
      "min_width": null,
      "object_fit": null,
      "object_position": null,
      "order": null,
      "overflow": null,
      "overflow_x": null,
      "overflow_y": null,
      "padding": null,
      "right": null,
      "top": null,
      "visibility": null,
      "width": null
     }
    },
    "cb1b370e6b8444f895852877fbdb3fe1": {
     "model_module": "@jupyter-widgets/base",
     "model_module_version": "1.2.0",
     "model_name": "LayoutModel",
     "state": {
      "_model_module": "@jupyter-widgets/base",
      "_model_module_version": "1.2.0",
      "_model_name": "LayoutModel",
      "_view_count": null,
      "_view_module": "@jupyter-widgets/base",
      "_view_module_version": "1.2.0",
      "_view_name": "LayoutView",
      "align_content": null,
      "align_items": null,
      "align_self": null,
      "border": null,
      "bottom": null,
      "display": null,
      "flex": null,
      "flex_flow": null,
      "grid_area": null,
      "grid_auto_columns": null,
      "grid_auto_flow": null,
      "grid_auto_rows": null,
      "grid_column": null,
      "grid_gap": null,
      "grid_row": null,
      "grid_template_areas": null,
      "grid_template_columns": null,
      "grid_template_rows": null,
      "height": null,
      "justify_content": null,
      "justify_items": null,
      "left": null,
      "margin": null,
      "max_height": null,
      "max_width": null,
      "min_height": null,
      "min_width": null,
      "object_fit": null,
      "object_position": null,
      "order": null,
      "overflow": null,
      "overflow_x": null,
      "overflow_y": null,
      "padding": null,
      "right": null,
      "top": null,
      "visibility": null,
      "width": null
     }
    }
   }
  }
 },
 "nbformat": 4,
 "nbformat_minor": 4
}
